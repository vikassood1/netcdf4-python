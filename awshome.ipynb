{
 "cells": [
  {
   "cell_type": "code",
   "execution_count": 97,
   "metadata": {
    "internals": {
     "frag_number": 2.0,
     "slide_helper": "subslide_end"
    },
    "slide_helper": "slide_end",
    "slideshow": {
     "slide_type": "fragment"
    }
   },
   "outputs": [],
   "source": [
    "import netCDF4\n",
    "import numpy as np\n",
    "import pandas as pd"
   ]
  },
  {
   "cell_type": "markdown",
   "metadata": {
    "internals": {
     "frag_helper": "fragment_end",
     "frag_number": 2.0,
     "slide_type": "subslide"
    },
    "slideshow": {
     "slide_type": "slide"
    }
   },
   "source": [
    "## Create a netCDF4.Dataset object\n",
    "- **`f`** is a `Dataset` object, representing an open netCDF file.\n",
    "- printing the object gives you summary information, similar to *`ncdump -h`*."
   ]
  },
  {
   "cell_type": "code",
   "execution_count": 98,
   "metadata": {
    "internals": {
     "frag_helper": "fragment_end",
     "frag_number": 4.0,
     "slide_helper": "subslide_end"
    },
    "slide_helper": "slide_end",
    "slideshow": {
     "slide_type": "fragment"
    }
   },
   "outputs": [
    {
     "name": "stdout",
     "output_type": "stream",
     "text": [
      "stratiform_snowfall_rate\n",
      "cloud_base_altitude_assuming_only_consider_cloud_area_fraction_greater_than_2p5_oktas\n",
      "cloud_area_fraction_assuming_maximum_random_overlap\n",
      "wet_bulb_freezing_level_altitude\n",
      "wet_bulb_potential_temperature\n",
      "unknown\n",
      "air_pressure_at_sea_level\n",
      "air_temperature\n",
      "air_temperature_0\n",
      "time_1_bnds\n",
      "forecast_period_1_bnds\n",
      "air_temperature_1\n",
      "air_temperature_2\n",
      "dew_point_temperature\n",
      "fog_area_fraction\n",
      "geopotential_height\n",
      "high_type_cloud_area_fraction\n",
      "low_type_cloud_area_fraction\n",
      "medium_type_cloud_area_fraction\n",
      "relative_humidity\n",
      "relative_humidity_0\n",
      "specific_humidity\n",
      "stratiform_rainfall_amount\n",
      "forecast_period_2_bnds\n",
      "time_2_bnds\n",
      "stratiform_rainfall_rate\n",
      "stratiform_snowfall_amount\n",
      "surface_air_pressure\n",
      "surface_downward_eastward_stress\n",
      "surface_downward_northward_stress\n",
      "surface_downwelling_longwave_flux\n",
      "surface_downwelling_shortwave_flux_in_air\n",
      "visibility_in_air\n",
      "wind_speed_of_gust\n",
      "x_wind\n",
      "x_wind_0\n",
      "x_wind_1\n",
      "y_wind\n",
      "y_wind_0\n",
      "y_wind_1\n"
     ]
    }
   ],
   "source": [
    "f = netCDF4.Dataset('/Users/vsood/Downloads/prods_op_mogreps-uk_20140717_03_11_015.nc', 'r')\n",
    "for cube in f.variables.keys():\n",
    "    if len(f.variables[cube].shape) > 1:\n",
    "        print(cube)"
   ]
  },
  {
   "cell_type": "code",
   "execution_count": 99,
   "metadata": {},
   "outputs": [],
   "source": [
    "air_visibility = f.variables['visibility_in_air']\n",
    "wind_speed = f.variables['wind_speed_of_gust']\n",
    "fog_area = f.variables['fog_area_fraction']\n",
    "air_temperature = f.variables['air_temperature_2']\n",
    "snowfall_rate = f.variables['stratiform_snowfall_rate']\n",
    "snowfall_amount = f.variables['stratiform_snowfall_amount']\n",
    "rainfall_rate = f.variables['stratiform_rainfall_rate']\n",
    "rainfall_amount = f.variables['stratiform_rainfall_amount']\n",
    "x_wind = f.variables['x_wind']\n",
    "x_wind_0 = f.variables['x_wind_0']\n",
    "x_wind_1 = f.variables['x_wind_1']\n",
    "y_wind = f.variables['y_wind']\n",
    "y_wind_0 = f.variables['y_wind_0']\n",
    "y_wind_1 = f.variables['y_wind_1']"
   ]
  },
  {
   "cell_type": "code",
   "execution_count": 156,
   "metadata": {},
   "outputs": [],
   "source": [
    "aviation_cubes = [air_visibility, wind_speed, fog_area, air_temperature, \n",
    "                 snowfall_rate,  rainfall_rate, x_wind, x_wind_0, x_wind_1, \n",
    "                 y_wind, y_wind_0,y_wind_1]"
   ]
  },
  {
   "cell_type": "code",
   "execution_count": 143,
   "metadata": {},
   "outputs": [],
   "source": [
    "def create_arrays(dataset, dim_tuple, size):\n",
    "    main_dim, *rest_of_dims = dim_tuple\n",
    "    main_dim_data = dataset.variables[main_dim][:]\n",
    "    for i in range(len(rest_of_dims)):\n",
    "        rest_of_dims[i] = dataset.variables[rest_of_dims[i]][:]\n",
    "    return np.vstack(np.meshgrid(main_dim_data, *rest_of_dims)).reshape(size, -1).T"
   ]
  },
  {
   "cell_type": "code",
   "execution_count": 157,
   "metadata": {},
   "outputs": [
    {
     "name": "stdout",
     "output_type": "stream",
     "text": [
      "cube: visibility_in_air, size = 692124, dims = ('time_0', 'grid_latitude', 'grid_longitude')\n",
      "2076372\n",
      "(3, 692124)\n",
      "cube: wind_speed_of_gust, size = 692124, dims = ('time_1', 'grid_latitude', 'grid_longitude')\n",
      "2076372\n",
      "(3, 692124)\n",
      "cube: fog_area_fraction, size = 692124, dims = ('time_0', 'grid_latitude', 'grid_longitude')\n",
      "2076372\n",
      "(3, 692124)\n",
      "cube: air_temperature_2, size = 1384248, dims = ('time_0', 'pressure_0', 'grid_latitude', 'grid_longitude')\n",
      "5536992\n",
      "(4, 1384248)\n",
      "cube: stratiform_snowfall_rate, size = 8305488, dims = ('time', 'grid_latitude', 'grid_longitude')\n",
      "24916464\n",
      "(3, 8305488)\n",
      "cube: stratiform_rainfall_rate, size = 8305488, dims = ('time', 'grid_latitude', 'grid_longitude')\n",
      "24916464\n",
      "(3, 8305488)\n",
      "cube: x_wind, size = 690861, dims = ('time_0', 'grid_latitude_0', 'grid_longitude_0')\n",
      "2072583\n",
      "(3, 690861)\n",
      "cube: x_wind_0, size = 1381722, dims = ('time_0', 'pressure_0', 'grid_latitude_0', 'grid_longitude_0')\n",
      "5526888\n",
      "(4, 1381722)\n",
      "cube: x_wind_1, size = 692124, dims = ('time_0', 'grid_latitude', 'grid_longitude_0')\n",
      "2076372\n",
      "(3, 692124)\n",
      "cube: y_wind, size = 690861, dims = ('time_0', 'grid_latitude_0', 'grid_longitude_0')\n",
      "2072583\n",
      "(3, 690861)\n",
      "cube: y_wind_0, size = 1381722, dims = ('time_0', 'pressure_0', 'grid_latitude_0', 'grid_longitude_0')\n",
      "5526888\n",
      "(4, 1381722)\n",
      "cube: y_wind_1, size = 690861, dims = ('time_0', 'grid_latitude_0', 'grid_longitude')\n",
      "2072583\n",
      "(3, 690861)\n"
     ]
    }
   ],
   "source": [
    "for cube in aviation_cubes:\n",
    "    size = cube.size\n",
    "    dims = cube.dimensions\n",
    "    print(\"cube: {}, size = {}, dims = {}\".format(cube.name, size, dims))\n",
    "    cube_data = cube[:].reshape(size,1) # reshaping all forecast data into a single columnß\n",
    "    cube_data = create_arrays(f, dims, size)\n",
    "    print(cube_data.size)\n",
    "    print(cube_data.shape)\n",
    "#     for dim in dims:\n",
    "#         f.\n"
   ]
  },
  {
   "cell_type": "markdown",
   "metadata": {},
   "source": [
    "## We can reshape the array into a single column"
   ]
  },
  {
   "cell_type": "code",
   "execution_count": null,
   "metadata": {},
   "outputs": [],
   "source": [
    "reshaped_air_temp = air_temperature[:].reshape(692124,1)"
   ]
  },
  {
   "cell_type": "code",
   "execution_count": null,
   "metadata": {},
   "outputs": [],
   "source": [
    "time = f.variables['time_0'][:]\n",
    "print(type(time))\n",
    "lat = f.variables['grid_latitude'][:]\n",
    "long = f.variables['grid_longitude'][:]"
   ]
  },
  {
   "cell_type": "code",
   "execution_count": null,
   "metadata": {},
   "outputs": [],
   "source": [
    "new_array = np.vstack(np.meshgrid(time,lat,long)).reshape(3, -1).T"
   ]
  },
  {
   "cell_type": "code",
   "execution_count": null,
   "metadata": {},
   "outputs": [],
   "source": [
    "df = pd.concat([pd.DataFrame(new_array), pd.DataFrame(reshaped_air_temp) - 273.15],axis=1)\n",
    "df.to_csv('/Users/vsood/Downloads/new_array.csv')"
   ]
  },
  {
   "cell_type": "code",
   "execution_count": null,
   "metadata": {},
   "outputs": [],
   "source": []
  },
  {
   "cell_type": "code",
   "execution_count": null,
   "metadata": {},
   "outputs": [],
   "source": []
  },
  {
   "cell_type": "code",
   "execution_count": null,
   "metadata": {},
   "outputs": [],
   "source": []
  }
 ],
 "metadata": {
  "kernelspec": {
   "display_name": "Python 3",
   "language": "python",
   "name": "python3"
  },
  "language_info": {
   "codemirror_mode": {
    "name": "ipython",
    "version": 3
   },
   "file_extension": ".py",
   "mimetype": "text/x-python",
   "name": "python",
   "nbconvert_exporter": "python",
   "pygments_lexer": "ipython3",
   "version": "3.6.0"
  }
 },
 "nbformat": 4,
 "nbformat_minor": 1
}
