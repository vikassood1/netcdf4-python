{
 "cells": [
  {
   "cell_type": "markdown",
   "metadata": {
    "internals": {
     "slide_helper": "subslide_end",
     "slide_type": "subslide"
    },
    "slide_helper": "slide_end",
    "slideshow": {
     "slide_type": "slide"
    }
   },
   "source": [
    "# Reading netCDF data\n",
    "- requires [numpy](http://numpy.scipy.org) and netCDF/HDF5 C libraries.\n",
    "- Github site: https://github.com/Unidata/netcdf4-python\n",
    "- Online docs: http://unidata.github.io/netcdf4-python/\n",
    "- Based on Konrad Hinsen's old [Scientific.IO.NetCDF](http://dirac.cnrs-orleans.fr/plone/software/scientificpython/) API, with lots of added netcdf version 4 features.\n",
    "- Developed by Jeff Whitaker at NOAA, with many contributions from users."
   ]
  },
  {
   "cell_type": "markdown",
   "metadata": {
    "internals": {
     "slide_type": "subslide"
    },
    "slideshow": {
     "slide_type": "slide"
    }
   },
   "source": [
    "## Interactively exploring a netCDF File\n",
    "\n",
    "Let's explore a netCDF file from the *Atlantic Real-Time Ocean Forecast System*\n",
    "\n",
    "first, import netcdf4-python and numpy"
   ]
  },
  {
   "cell_type": "code",
   "execution_count": 3,
   "metadata": {
    "internals": {
     "frag_number": 2,
     "slide_helper": "subslide_end"
    },
    "slide_helper": "slide_end",
    "slideshow": {
     "slide_type": "fragment"
    }
   },
   "outputs": [],
   "source": [
    "import netCDF4\n",
    "import numpy as np"
   ]
  },
  {
   "cell_type": "markdown",
   "metadata": {
    "internals": {
     "frag_helper": "fragment_end",
     "frag_number": 2,
     "slide_type": "subslide"
    },
    "slideshow": {
     "slide_type": "slide"
    }
   },
   "source": [
    "## Create a netCDF4.Dataset object\n",
    "- **`f`** is a `Dataset` object, representing an open netCDF file.\n",
    "- printing the object gives you summary information, similar to *`ncdump -h`*."
   ]
  },
  {
   "cell_type": "code",
   "execution_count": 4,
   "metadata": {
    "internals": {
     "frag_helper": "fragment_end",
     "frag_number": 4,
     "slide_helper": "subslide_end"
    },
    "slide_helper": "slide_end",
    "slideshow": {
     "slide_type": "fragment"
    }
   },
   "outputs": [
    {
     "name": "stdout",
     "output_type": "stream",
     "text": [
      "<class 'netCDF4._netCDF4.Dataset'>\n",
      "root group (NETCDF4 data model, file format HDF5):\n",
      "    source: Data from Met Office Unified Model\n",
      "    um_version: 8.5\n",
      "    Conventions: CF-1.5\n",
      "    dimensions(sizes): time(36), grid_latitude(548), grid_longitude(421), time_0(3), pressure(3), time_1(3), bnds(2), pressure_0(2), pressure_1(3), dim0(3), grid_longitude_0(421), grid_latitude_0(547), time_3(3)\n",
      "    variables(dimensions): float32 \u001b[4mstratiform_snowfall_rate\u001b[0m(time,grid_latitude,grid_longitude), int32 \u001b[4mrotated_latitude_longitude\u001b[0m(), float64 \u001b[4mtime\u001b[0m(time), float32 \u001b[4mgrid_latitude\u001b[0m(grid_latitude), float32 \u001b[4mgrid_longitude\u001b[0m(grid_longitude), float64 \u001b[4mforecast_period\u001b[0m(time), float64 \u001b[4mforecast_reference_time\u001b[0m(), float32 \u001b[4mcloud_base_altitude_assuming_only_consider_cloud_area_fraction_greater_than_2p5_oktas\u001b[0m(time_0,grid_latitude,grid_longitude), float64 \u001b[4mtime_0\u001b[0m(time_0), float64 \u001b[4mforecast_period_0\u001b[0m(time_0), float32 \u001b[4mcloud_area_fraction_assuming_maximum_random_overlap\u001b[0m(time_0,grid_latitude,grid_longitude), float32 \u001b[4mwet_bulb_freezing_level_altitude\u001b[0m(time_0,grid_latitude,grid_longitude), float32 \u001b[4mwet_bulb_potential_temperature\u001b[0m(time_0,pressure,grid_latitude,grid_longitude), float32 \u001b[4mpressure\u001b[0m(pressure), float32 \u001b[4munknown\u001b[0m(time_0,grid_latitude,grid_longitude), float32 \u001b[4mair_pressure_at_sea_level\u001b[0m(time_0,grid_latitude,grid_longitude), float32 \u001b[4mair_temperature\u001b[0m(time_0,grid_latitude,grid_longitude), float64 \u001b[4mheight\u001b[0m(), float32 \u001b[4mair_temperature_0\u001b[0m(time_1,grid_latitude,grid_longitude), float64 \u001b[4mtime_1\u001b[0m(time_1), float64 \u001b[4mtime_1_bnds\u001b[0m(time_1,bnds), float64 \u001b[4mforecast_period_1\u001b[0m(time_1), float64 \u001b[4mforecast_period_1_bnds\u001b[0m(time_1,bnds), float32 \u001b[4mair_temperature_1\u001b[0m(time_1,grid_latitude,grid_longitude), float32 \u001b[4mair_temperature_2\u001b[0m(time_0,pressure_0,grid_latitude,grid_longitude), float32 \u001b[4mpressure_0\u001b[0m(pressure_0), float32 \u001b[4mdew_point_temperature\u001b[0m(time_0,grid_latitude,grid_longitude), float32 \u001b[4mfog_area_fraction\u001b[0m(time_0,grid_latitude,grid_longitude), float32 \u001b[4mgeopotential_height\u001b[0m(time_0,pressure_1,grid_latitude,grid_longitude), float32 \u001b[4mpressure_1\u001b[0m(pressure_1), float32 \u001b[4mhigh_type_cloud_area_fraction\u001b[0m(time_0,grid_latitude,grid_longitude), float32 \u001b[4mlow_type_cloud_area_fraction\u001b[0m(time_0,grid_latitude,grid_longitude), float32 \u001b[4mmedium_type_cloud_area_fraction\u001b[0m(time_0,grid_latitude,grid_longitude), float32 \u001b[4mrelative_humidity\u001b[0m(time_0,grid_latitude,grid_longitude), float32 \u001b[4mrelative_humidity_0\u001b[0m(time_0,pressure_0,grid_latitude,grid_longitude), float32 \u001b[4mspecific_humidity\u001b[0m(time_0,grid_latitude,grid_longitude), float32 \u001b[4mstratiform_rainfall_amount\u001b[0m(dim0,grid_latitude,grid_longitude), float64 \u001b[4mforecast_period_2\u001b[0m(dim0), float64 \u001b[4mforecast_period_2_bnds\u001b[0m(dim0,bnds), float64 \u001b[4mtime_2\u001b[0m(dim0), float64 \u001b[4mtime_2_bnds\u001b[0m(dim0,bnds), float32 \u001b[4mstratiform_rainfall_rate\u001b[0m(time,grid_latitude,grid_longitude), float32 \u001b[4mstratiform_snowfall_amount\u001b[0m(dim0,grid_latitude,grid_longitude), float32 \u001b[4msurface_air_pressure\u001b[0m(time_0,grid_latitude,grid_longitude), float32 \u001b[4msurface_downward_eastward_stress\u001b[0m(time_0,grid_latitude,grid_longitude_0), float32 \u001b[4mgrid_longitude_0\u001b[0m(grid_longitude_0), float32 \u001b[4mlevel_height\u001b[0m(), float32 \u001b[4mlevel_height_bnds\u001b[0m(bnds), int32 \u001b[4mmodel_level_number\u001b[0m(), float32 \u001b[4msigma\u001b[0m(), float32 \u001b[4msigma_bnds\u001b[0m(bnds), float32 \u001b[4msurface_downward_northward_stress\u001b[0m(time_0,grid_latitude_0,grid_longitude), float32 \u001b[4mgrid_latitude_0\u001b[0m(grid_latitude_0), float32 \u001b[4msurface_downwelling_longwave_flux\u001b[0m(time_3,grid_latitude,grid_longitude), float64 \u001b[4mtime_3\u001b[0m(time_3), float64 \u001b[4mforecast_period_3\u001b[0m(time_3), float32 \u001b[4msurface_downwelling_shortwave_flux_in_air\u001b[0m(time_3,grid_latitude,grid_longitude), float32 \u001b[4mvisibility_in_air\u001b[0m(time_0,grid_latitude,grid_longitude), float32 \u001b[4mwind_speed_of_gust\u001b[0m(time_1,grid_latitude,grid_longitude), float64 \u001b[4mheight_0\u001b[0m(), float32 \u001b[4mx_wind\u001b[0m(time_0,grid_latitude_0,grid_longitude_0), float32 \u001b[4mx_wind_0\u001b[0m(time_0,pressure_0,grid_latitude_0,grid_longitude_0), float32 \u001b[4mx_wind_1\u001b[0m(time_0,grid_latitude,grid_longitude_0), float32 \u001b[4mlevel_height_0\u001b[0m(), float32 \u001b[4mlevel_height_0_bnds\u001b[0m(bnds), int32 \u001b[4mmodel_level_number_0\u001b[0m(), float32 \u001b[4msigma_0\u001b[0m(), float32 \u001b[4msigma_0_bnds\u001b[0m(bnds), float32 \u001b[4my_wind\u001b[0m(time_0,grid_latitude_0,grid_longitude_0), float32 \u001b[4my_wind_0\u001b[0m(time_0,pressure_0,grid_latitude_0,grid_longitude_0), float32 \u001b[4my_wind_1\u001b[0m(time_0,grid_latitude_0,grid_longitude)\n",
      "    groups: \n",
      "\n"
     ]
    }
   ],
   "source": [
    "f = netCDF4.Dataset('/Users/vsood/Downloads/prods_op_mogreps-uk_20140717_03_11_015.nc', 'r')\n",
    "print(f) "
   ]
  },
  {
   "cell_type": "markdown",
   "metadata": {
    "internals": {
     "frag_helper": "fragment_end",
     "frag_number": 4,
     "slide_type": "subslide"
    },
    "slideshow": {
     "slide_type": "slide"
    }
   },
   "source": [
    "## Access a netCDF variable\n",
    "- variable objects stored by name in **`variables`** dict. A variable typically depends on one or more ***`dimensions`*** making them multi-dimensional\n",
    "- print the variable yields summary info (including all the attributes).\n",
    "- no actual data read yet (just have a reference to the variable object with metadata)."
   ]
  },
  {
   "cell_type": "code",
   "execution_count": 22,
   "metadata": {
    "internals": {
     "frag_helper": "fragment_end",
     "frag_number": 6,
     "slide_helper": "subslide_end"
    },
    "slide_helper": "slide_end",
    "slideshow": {
     "slide_type": "fragment"
    }
   },
   "outputs": [
    {
     "name": "stdout",
     "output_type": "stream",
     "text": [
      "odict_keys(['stratiform_snowfall_rate', 'rotated_latitude_longitude', 'time', 'grid_latitude', 'grid_longitude', 'forecast_period', 'forecast_reference_time', 'cloud_base_altitude_assuming_only_consider_cloud_area_fraction_greater_than_2p5_oktas', 'time_0', 'forecast_period_0', 'cloud_area_fraction_assuming_maximum_random_overlap', 'wet_bulb_freezing_level_altitude', 'wet_bulb_potential_temperature', 'pressure', 'unknown', 'air_pressure_at_sea_level', 'air_temperature', 'height', 'air_temperature_0', 'time_1', 'time_1_bnds', 'forecast_period_1', 'forecast_period_1_bnds', 'air_temperature_1', 'air_temperature_2', 'pressure_0', 'dew_point_temperature', 'fog_area_fraction', 'geopotential_height', 'pressure_1', 'high_type_cloud_area_fraction', 'low_type_cloud_area_fraction', 'medium_type_cloud_area_fraction', 'relative_humidity', 'relative_humidity_0', 'specific_humidity', 'stratiform_rainfall_amount', 'forecast_period_2', 'forecast_period_2_bnds', 'time_2', 'time_2_bnds', 'stratiform_rainfall_rate', 'stratiform_snowfall_amount', 'surface_air_pressure', 'surface_downward_eastward_stress', 'grid_longitude_0', 'level_height', 'level_height_bnds', 'model_level_number', 'sigma', 'sigma_bnds', 'surface_downward_northward_stress', 'grid_latitude_0', 'surface_downwelling_longwave_flux', 'time_3', 'forecast_period_3', 'surface_downwelling_shortwave_flux_in_air', 'visibility_in_air', 'wind_speed_of_gust', 'height_0', 'x_wind', 'x_wind_0', 'x_wind_1', 'level_height_0', 'level_height_0_bnds', 'model_level_number_0', 'sigma_0', 'sigma_0_bnds', 'y_wind', 'y_wind_0', 'y_wind_1'])\n",
      "<class 'netCDF4._netCDF4.Variable'>\n",
      "float32 air_temperature(time_0, grid_latitude, grid_longitude)\n",
      "    _FillValue: -1073741800.0\n",
      "    standard_name: air_temperature\n",
      "    units: K\n",
      "    um_stash_source: m01s03i236\n",
      "    grid_mapping: rotated_latitude_longitude\n",
      "    coordinates: forecast_period_0 forecast_reference_time height\n",
      "unlimited dimensions: time_0\n",
      "current shape = (3, 548, 421)\n",
      "filling on\n"
     ]
    }
   ],
   "source": [
    "print(f.variables.keys()) # get all variable names\n",
    "#print(f.variables.values()) # get all variable names\n",
    "temp = f.variables['air_temperature']  # temperature variable\n",
    "print(temp) "
   ]
  },
  {
   "cell_type": "markdown",
   "metadata": {
    "internals": {
     "frag_helper": "fragment_end",
     "frag_number": 6,
     "slide_type": "subslide"
    },
    "slideshow": {
     "slide_type": "slide"
    }
   },
   "source": [
    "## List the Dimensions\n",
    "\n",
    "- All variables in a netCDF file have an associated shape, specified by a list of dimensions.\n",
    "- Let's list all the dimensions in this netCDF file.\n",
    "- Note that the **`time`** dimension is special (*`unlimited`*), which means it can be appended to."
   ]
  },
  {
   "cell_type": "code",
   "execution_count": 10,
   "metadata": {
    "internals": {
     "frag_helper": "fragment_end",
     "frag_number": 8
    },
    "slideshow": {
     "slide_type": "fragment"
    }
   },
   "outputs": [
    {
     "name": "stdout",
     "output_type": "stream",
     "text": [
      "time\n",
      "grid_latitude\n",
      "grid_longitude\n",
      "time_0\n",
      "pressure\n",
      "time_1\n",
      "bnds\n",
      "pressure_0\n",
      "pressure_1\n",
      "dim0\n",
      "grid_longitude_0\n",
      "grid_latitude_0\n",
      "time_3\n"
     ]
    }
   ],
   "source": [
    "for d1 in f.dimensions.keys():\n",
    "    print(d1)"
   ]
  },
  {
   "cell_type": "code",
   "execution_count": 14,
   "metadata": {},
   "outputs": [
    {
     "name": "stdout",
     "output_type": "stream",
     "text": [
      "<class 'netCDF4._netCDF4.Dimension'> (unlimited): name = 'time', size = 36\n",
      "\n",
      "<class 'netCDF4._netCDF4.Dimension'>: name = 'grid_latitude', size = 548\n",
      "\n",
      "<class 'netCDF4._netCDF4.Dimension'>: name = 'grid_longitude', size = 421\n",
      "\n",
      "<class 'netCDF4._netCDF4.Dimension'> (unlimited): name = 'time_0', size = 3\n",
      "\n",
      "<class 'netCDF4._netCDF4.Dimension'>: name = 'pressure', size = 3\n",
      "\n",
      "<class 'netCDF4._netCDF4.Dimension'> (unlimited): name = 'time_1', size = 3\n",
      "\n",
      "<class 'netCDF4._netCDF4.Dimension'>: name = 'bnds', size = 2\n",
      "\n",
      "<class 'netCDF4._netCDF4.Dimension'>: name = 'pressure_0', size = 2\n",
      "\n",
      "<class 'netCDF4._netCDF4.Dimension'>: name = 'pressure_1', size = 3\n",
      "\n",
      "<class 'netCDF4._netCDF4.Dimension'> (unlimited): name = 'dim0', size = 3\n",
      "\n",
      "<class 'netCDF4._netCDF4.Dimension'>: name = 'grid_longitude_0', size = 421\n",
      "\n",
      "<class 'netCDF4._netCDF4.Dimension'>: name = 'grid_latitude_0', size = 547\n",
      "\n",
      "<class 'netCDF4._netCDF4.Dimension'> (unlimited): name = 'time_3', size = 3\n",
      "\n"
     ]
    }
   ],
   "source": [
    "for d2 in f.dimensions.values():\n",
    "    print(d2)"
   ]
  },
  {
   "cell_type": "markdown",
   "metadata": {
    "internals": {
     "frag_helper": "fragment_end",
     "frag_number": 9
    },
    "slideshow": {
     "slide_type": "fragment"
    }
   },
   "source": [
    "Each variable has a **`dimensions`** and a **`shape`** attribute."
   ]
  },
  {
   "cell_type": "code",
   "execution_count": 7,
   "metadata": {
    "internals": {
     "frag_helper": "fragment_end",
     "frag_number": 10
    },
    "slideshow": {
     "slide_type": "fragment"
    }
   },
   "outputs": [
    {
     "data": {
      "text/plain": [
       "('time_0', 'grid_latitude', 'grid_longitude')"
      ]
     },
     "execution_count": 7,
     "metadata": {},
     "output_type": "execute_result"
    }
   ],
   "source": [
    "temp.dimensions"
   ]
  },
  {
   "cell_type": "code",
   "execution_count": 8,
   "metadata": {
    "internals": {
     "frag_helper": "fragment_end",
     "frag_number": 11,
     "slide_helper": "subslide_end"
    },
    "slide_helper": "slide_end",
    "slideshow": {
     "slide_type": "fragment"
    }
   },
   "outputs": [
    {
     "data": {
      "text/plain": [
       "(3, 548, 421)"
      ]
     },
     "execution_count": 8,
     "metadata": {},
     "output_type": "execute_result"
    }
   ],
   "source": [
    "temp.shape"
   ]
  },
  {
   "cell_type": "markdown",
   "metadata": {
    "internals": {
     "frag_helper": "fragment_end",
     "frag_number": 11,
     "slide_type": "subslide"
    },
    "slideshow": {
     "slide_type": "slide"
    }
   },
   "source": [
    "### Each dimension typically has a variable associated with it (called a *coordinate* variable).\n",
    "- *Coordinate variables* are 1D variables that have the same name as dimensions.\n",
    "- Coordinate variables and *auxiliary coordinate variables* (named by the *coordinates* attribute) locate values in time and space."
   ]
  },
  {
   "cell_type": "code",
   "execution_count": 30,
   "metadata": {
    "internals": {
     "frag_helper": "fragment_end",
     "frag_number": 13,
     "slide_helper": "subslide_end"
    },
    "slide_helper": "slide_end",
    "slideshow": {
     "slide_type": "fragment"
    }
   },
   "outputs": [
    {
     "name": "stdout",
     "output_type": "stream",
     "text": [
      "<class 'netCDF4._netCDF4.Variable'>\n",
      "float64 time_0(time_0)\n",
      "    axis: T\n",
      "    units: hours since 1970-01-01 00:00:00\n",
      "    standard_name: time\n",
      "    calendar: gregorian\n",
      "unlimited dimensions: time_0\n",
      "current shape = (3,)\n",
      "filling on, default _FillValue of 9.969209968386869e+36 used\n",
      "\n",
      "<class 'netCDF4._netCDF4.Variable'>\n",
      "float32 grid_longitude(grid_longitude)\n",
      "    axis: X\n",
      "    units: degrees\n",
      "    standard_name: grid_longitude\n",
      "unlimited dimensions: \n",
      "current shape = (421,)\n",
      "filling on, default _FillValue of 9.969209968386869e+36 used\n",
      "\n"
     ]
    }
   ],
   "source": [
    "time = f.variables['time_0']\n",
    "long = f.variables['grid_longitude']\n",
    "lat = f.variables['grid_latitude']\n",
    "print(time)\n",
    "print(long)                 "
   ]
  },
  {
   "cell_type": "markdown",
   "metadata": {
    "internals": {
     "frag_helper": "fragment_end",
     "frag_number": 13,
     "slide_type": "subslide"
    },
    "slideshow": {
     "slide_type": "slide"
    }
   },
   "source": [
    "## Accessing data from a netCDF variable object\n",
    "\n",
    "- netCDF variables objects behave much like numpy arrays.\n",
    "- slicing a netCDF variable object returns a numpy array with the data.\n",
    "- Boolean array and integer sequence indexing behaves differently for netCDF variables than for numpy arrays. Only 1-d boolean arrays and integer sequences are allowed, and these indices work independently along each dimension (similar to the way vector subscripts work in fortran)."
   ]
  },
  {
   "cell_type": "code",
   "execution_count": 56,
   "metadata": {
    "internals": {
     "frag_helper": "fragment_end",
     "frag_number": 15
    },
    "slideshow": {
     "slide_type": "fragment"
    }
   },
   "outputs": [
    {
     "name": "stdout",
     "output_type": "stream",
     "text": [
      "[390448. 390449. 390450.]\n"
     ]
    }
   ],
   "source": [
    "time_value = time[:]  # Reads the netCDF variable MT, array of one element\n",
    "print(time_value) "
   ]
  },
  {
   "cell_type": "code",
   "execution_count": 49,
   "metadata": {
    "internals": {
     "frag_helper": "fragment_end",
     "frag_number": 16
    },
    "slideshow": {
     "slide_type": "fragment"
    }
   },
   "outputs": [
    {
     "name": "stdout",
     "output_type": "stream",
     "text": [
      "[354.91074 354.93073 354.95074 354.97073 354.99072 355.01074 355.03073\n",
      " 355.05075 355.07074 355.09073 355.11075 355.13074 355.15073 355.17075\n",
      " 355.19073 355.21072 355.23074 355.25073 355.27072 355.29074 355.31073\n",
      " 355.33075 355.35074 355.37073 355.39075 355.41074 355.43073 355.45074\n",
      " 355.47073 355.49072 355.51074 355.53073 355.55075 355.57074 355.59073\n",
      " 355.61075 355.63074 355.65073 355.67075 355.69073 355.71072 355.73074\n",
      " 355.75073 355.77072 355.79074 355.81073 355.83075 355.85074 355.87073\n",
      " 355.89075 355.91074 355.93073 355.95074 355.97073 355.99072 356.01074\n",
      " 356.03073 356.05075 356.07074 356.09073 356.11075 356.13074 356.15073\n",
      " 356.17075 356.19073 356.21072 356.23074 356.25073 356.27072 356.29074\n",
      " 356.31073 356.33075 356.35074 356.37073 356.39075 356.41074 356.43073\n",
      " 356.45074 356.47073 356.49072 356.51074 356.53073 356.55075 356.57074\n",
      " 356.59073 356.61075 356.63074 356.65073 356.67075 356.69073 356.71072\n",
      " 356.73074 356.75073 356.77072 356.79074 356.81073 356.83075 356.85074\n",
      " 356.87073 356.89075 356.91074 356.93073 356.95074 356.97073 356.99072\n",
      " 357.01074 357.03073 357.05075 357.07074 357.09073 357.11075 357.13074\n",
      " 357.15073 357.17075 357.19073 357.21072 357.23074 357.25073 357.27072\n",
      " 357.29074 357.31073 357.33075 357.35074 357.37073 357.39075 357.41074\n",
      " 357.43073 357.45074 357.47073 357.49072 357.51074 357.53073 357.55075\n",
      " 357.57074 357.59073 357.61075 357.63074 357.65073 357.67075 357.69073\n",
      " 357.71072 357.73074 357.75073 357.77072 357.79074 357.81073 357.83075\n",
      " 357.85074 357.87073 357.89075 357.91074 357.93073 357.95074 357.97073\n",
      " 357.99072 358.01074 358.03073 358.05075 358.07074 358.09073 358.11075\n",
      " 358.13074 358.15073 358.17075 358.19073 358.21072 358.23074 358.25073\n",
      " 358.27072 358.29074 358.31073 358.33075 358.35074 358.37073 358.39075\n",
      " 358.41074 358.43073 358.45074 358.47073 358.49072 358.51074 358.53073\n",
      " 358.55075 358.57074 358.59073 358.61075 358.63074 358.65073 358.67075\n",
      " 358.69073 358.71072 358.73074 358.75073 358.77072 358.79074 358.81073\n",
      " 358.83075 358.85074 358.87073 358.89075 358.91074 358.93073 358.95074\n",
      " 358.97073 358.99072 359.01074 359.03073 359.05075 359.07074 359.09073\n",
      " 359.11075 359.13074 359.15073 359.17075 359.19073 359.21072 359.23074\n",
      " 359.25073 359.27072 359.29074 359.31073 359.33075 359.35074 359.37073\n",
      " 359.39075 359.41074 359.43073 359.45074 359.47073 359.49072 359.51074\n",
      " 359.53073 359.55075 359.57074 359.59073 359.61075 359.63074 359.65073\n",
      " 359.67075 359.69073 359.71072 359.73074 359.75073 359.77072 359.79074\n",
      " 359.81073 359.83075 359.85074 359.87073 359.89075 359.91074 359.93073\n",
      " 359.95074 359.97073 359.99072 360.01074 360.03073 360.05075 360.07074\n",
      " 360.09073 360.11075 360.13074 360.15073 360.17075 360.19073 360.21072\n",
      " 360.23074 360.25073 360.27072 360.29074 360.31073 360.33075 360.35074\n",
      " 360.37073 360.39075 360.41074 360.43073 360.45074 360.47073 360.49072\n",
      " 360.51074 360.53073 360.55075 360.57074 360.59073 360.61075 360.63074\n",
      " 360.65073 360.67075 360.69073 360.71072 360.73074 360.75073 360.77072\n",
      " 360.79074 360.81073 360.83075 360.85074 360.87073 360.89075 360.91074\n",
      " 360.93073 360.95074 360.97073 360.99072 361.01074 361.03073 361.05075\n",
      " 361.07074 361.09073 361.11075 361.13074 361.15073 361.17075 361.19073\n",
      " 361.21072 361.23074 361.25073 361.27072 361.29074 361.31073 361.33075\n",
      " 361.35074 361.37073 361.39075 361.41074 361.43073 361.45074 361.47073\n",
      " 361.49072 361.51074 361.53073 361.55075 361.57074 361.59073 361.61075\n",
      " 361.63074 361.65073 361.67075 361.69073 361.71072 361.73074 361.75073\n",
      " 361.77072 361.79074 361.81073 361.83075 361.85074 361.87073 361.89075\n",
      " 361.91074 361.93073 361.95074 361.97073 361.99072 362.01074 362.03073\n",
      " 362.05075 362.07074 362.09073 362.11075 362.13074 362.15073 362.17075\n",
      " 362.19073 362.21072 362.23074 362.25073 362.27072 362.29074 362.31073\n",
      " 362.33075 362.35074 362.37073 362.39075 362.41074 362.43073 362.45074\n",
      " 362.47073 362.49072 362.51074 362.53073 362.55075 362.57074 362.59073\n",
      " 362.61075 362.63074 362.65073 362.67075 362.69073 362.71072 362.73074\n",
      " 362.75073 362.77072 362.79074 362.81073 362.83075 362.85074 362.87073\n",
      " 362.89075 362.91074 362.93073 362.95074 362.97073 362.99072 363.01074\n",
      " 363.03073 363.05072 363.07074 363.09073 363.11075 363.13074 363.15073\n",
      " 363.17075 363.19073 363.21072 363.23074 363.25073 363.27072 363.29074\n",
      " 363.31073]\n"
     ]
    }
   ],
   "source": [
    "long_value = long[:] # examine first 10 values of longitude\n",
    "print(long_value) "
   ]
  },
  {
   "cell_type": "code",
   "execution_count": 50,
   "metadata": {},
   "outputs": [
    {
     "name": "stdout",
     "output_type": "stream",
     "text": [
      "[-3.77994990e+00 -3.75994992e+00 -3.73994994e+00 -3.71994996e+00\n",
      " -3.69994998e+00 -3.67995000e+00 -3.65995002e+00 -3.63994980e+00\n",
      " -3.61994982e+00 -3.59994984e+00 -3.57994986e+00 -3.55994987e+00\n",
      " -3.53994989e+00 -3.51994991e+00 -3.49994993e+00 -3.47994995e+00\n",
      " -3.45994997e+00 -3.43994999e+00 -3.41995001e+00 -3.39995003e+00\n",
      " -3.37995005e+00 -3.35994983e+00 -3.33994985e+00 -3.31994987e+00\n",
      " -3.29994988e+00 -3.27994990e+00 -3.25994992e+00 -3.23994994e+00\n",
      " -3.21994996e+00 -3.19994998e+00 -3.17995000e+00 -3.15994978e+00\n",
      " -3.13994980e+00 -3.11994982e+00 -3.09994984e+00 -3.07994986e+00\n",
      " -3.05994987e+00 -3.03994989e+00 -3.01994991e+00 -2.99994993e+00\n",
      " -2.97994995e+00 -2.95994997e+00 -2.93994999e+00 -2.91995001e+00\n",
      " -2.89995003e+00 -2.87995005e+00 -2.85995007e+00 -2.83994985e+00\n",
      " -2.81994987e+00 -2.79994988e+00 -2.77994990e+00 -2.75994992e+00\n",
      " -2.73994994e+00 -2.71994996e+00 -2.69994998e+00 -2.67994976e+00\n",
      " -2.65994978e+00 -2.63994980e+00 -2.61994982e+00 -2.59994984e+00\n",
      " -2.57994986e+00 -2.55994987e+00 -2.53994989e+00 -2.51994991e+00\n",
      " -2.49994993e+00 -2.47994995e+00 -2.45994997e+00 -2.43994999e+00\n",
      " -2.41995001e+00 -2.39995003e+00 -2.37995005e+00 -2.35995007e+00\n",
      " -2.33995008e+00 -2.31995010e+00 -2.29994988e+00 -2.27994990e+00\n",
      " -2.25994992e+00 -2.23994994e+00 -2.21994996e+00 -2.19994998e+00\n",
      " -2.17995000e+00 -2.15994978e+00 -2.13994980e+00 -2.11994982e+00\n",
      " -2.09994984e+00 -2.07994986e+00 -2.05994987e+00 -2.03994989e+00\n",
      " -2.01994991e+00 -1.99994993e+00 -1.97994995e+00 -1.95994997e+00\n",
      " -1.93994999e+00 -1.91994989e+00 -1.89994991e+00 -1.87994993e+00\n",
      " -1.85994995e+00 -1.83994997e+00 -1.81994998e+00 -1.79995000e+00\n",
      " -1.77994990e+00 -1.75994992e+00 -1.73994994e+00 -1.71994996e+00\n",
      " -1.69994998e+00 -1.67995000e+00 -1.65995002e+00 -1.63995004e+00\n",
      " -1.61995006e+00 -1.59994984e+00 -1.57994986e+00 -1.55994987e+00\n",
      " -1.53994989e+00 -1.51994991e+00 -1.49994993e+00 -1.47994995e+00\n",
      " -1.45994997e+00 -1.43994999e+00 -1.41995001e+00 -1.39995003e+00\n",
      " -1.37995005e+00 -1.35995007e+00 -1.33994985e+00 -1.31994987e+00\n",
      " -1.29994988e+00 -1.27994990e+00 -1.25994992e+00 -1.23994994e+00\n",
      " -1.21994996e+00 -1.19994998e+00 -1.17995000e+00 -1.15995002e+00\n",
      " -1.13995004e+00 -1.11995006e+00 -1.09995008e+00 -1.07994986e+00\n",
      " -1.05994987e+00 -1.03994989e+00 -1.01994991e+00 -9.99949932e-01\n",
      " -9.79949951e-01 -9.59949970e-01 -9.39949989e-01 -9.19950008e-01\n",
      " -8.99950027e-01 -8.79950047e-01 -8.59950066e-01 -8.39950085e-01\n",
      " -8.19949865e-01 -7.99949884e-01 -7.79949903e-01 -7.59949923e-01\n",
      " -7.39949942e-01 -7.19949961e-01 -6.99949980e-01 -6.79949999e-01\n",
      " -6.59950018e-01 -6.39950037e-01 -6.19950056e-01 -5.99950075e-01\n",
      " -5.79950094e-01 -5.59949875e-01 -5.39949894e-01 -5.19949913e-01\n",
      " -4.99949932e-01 -4.79949951e-01 -4.59949970e-01 -4.39949989e-01\n",
      " -4.19950008e-01 -3.99950027e-01 -3.79950047e-01 -3.59950066e-01\n",
      " -3.39950085e-01 -3.19949865e-01 -2.99949884e-01 -2.79949903e-01\n",
      " -2.59949923e-01 -2.39949942e-01 -2.19949961e-01 -1.99949980e-01\n",
      " -1.79949999e-01 -1.59950018e-01 -1.39950037e-01 -1.19950056e-01\n",
      " -9.99500751e-02 -7.99500942e-02 -5.99498749e-02 -3.99498940e-02\n",
      " -1.99499130e-02  5.00679016e-05  2.00500488e-02  4.00500298e-02\n",
      "  6.00500107e-02  8.00499916e-02  1.00049973e-01  1.20049953e-01\n",
      "  1.40049934e-01  1.60049915e-01  1.80049896e-01  2.00050116e-01\n",
      "  2.20050097e-01  2.40050077e-01  2.60050058e-01  2.80050039e-01\n",
      "  3.00050020e-01  3.20050001e-01  3.40049982e-01  3.60049963e-01\n",
      "  3.80049944e-01  4.00049925e-01  4.20049906e-01  4.40049887e-01\n",
      "  4.60049868e-01  4.80049849e-01  5.00049829e-01  5.20049810e-01\n",
      "  5.40049791e-01  5.60049772e-01  5.80050230e-01  6.00050211e-01\n",
      "  6.20050192e-01  6.40050173e-01  6.60050154e-01  6.80050135e-01\n",
      "  7.00050116e-01  7.20050097e-01  7.40050077e-01  7.60050058e-01\n",
      "  7.80050039e-01  8.00050020e-01  8.20050001e-01  8.40049982e-01\n",
      "  8.60049963e-01  8.80049944e-01  9.00049925e-01  9.20049906e-01\n",
      "  9.40049887e-01  9.60049868e-01  9.80049849e-01  1.00004983e+00\n",
      "  1.02004981e+00  1.04004979e+00  1.06004977e+00  1.08004975e+00\n",
      "  1.10005021e+00  1.12005019e+00  1.14005017e+00  1.16005015e+00\n",
      "  1.18005013e+00  1.20005012e+00  1.22005010e+00  1.24005008e+00\n",
      "  1.26005006e+00  1.28005004e+00  1.30005002e+00  1.32005000e+00\n",
      "  1.34004998e+00  1.36004996e+00  1.38004994e+00  1.40004992e+00\n",
      "  1.42004991e+00  1.44004989e+00  1.46004987e+00  1.48004985e+00\n",
      "  1.50004983e+00  1.52004981e+00  1.54004979e+00  1.56004977e+00\n",
      "  1.58004975e+00  1.60005021e+00  1.62005019e+00  1.64005017e+00\n",
      "  1.66005015e+00  1.68005013e+00  1.70005012e+00  1.72005010e+00\n",
      "  1.74005008e+00  1.76005006e+00  1.78005004e+00  1.80005002e+00\n",
      "  1.82005000e+00  1.84004998e+00  1.86004996e+00  1.88004994e+00\n",
      "  1.90004992e+00  1.92004991e+00  1.94004989e+00  1.96004987e+00\n",
      "  1.98004985e+00  2.00004983e+00  2.02004981e+00  2.04004979e+00\n",
      "  2.06004977e+00  2.08004975e+00  2.10004973e+00  2.12005019e+00\n",
      "  2.14005017e+00  2.16005015e+00  2.18005013e+00  2.20005012e+00\n",
      "  2.22005010e+00  2.24005008e+00  2.26005006e+00  2.28005004e+00\n",
      "  2.30005002e+00  2.32005000e+00  2.34004998e+00  2.36004996e+00\n",
      "  2.38004994e+00  2.40004992e+00  2.42004991e+00  2.44004989e+00\n",
      "  2.46004987e+00  2.48004985e+00  2.50004983e+00  2.52004981e+00\n",
      "  2.54004979e+00  2.56004977e+00  2.58004975e+00  2.60004973e+00\n",
      "  2.62004972e+00  2.64005017e+00  2.66005015e+00  2.68005013e+00\n",
      "  2.70005012e+00  2.72005010e+00  2.74005008e+00  2.76005006e+00\n",
      "  2.78005004e+00  2.80005002e+00  2.82005000e+00  2.84004998e+00\n",
      "  2.86004996e+00  2.88004994e+00  2.90004992e+00  2.92004991e+00\n",
      "  2.94004989e+00  2.96004987e+00  2.98004985e+00  3.00004983e+00\n",
      "  3.02004981e+00  3.04004979e+00  3.06004977e+00  3.08004975e+00\n",
      "  3.10004973e+00  3.12004972e+00  3.14005017e+00  3.16005015e+00\n",
      "  3.18005013e+00  3.20005012e+00  3.22005010e+00  3.24005008e+00\n",
      "  3.26005006e+00  3.28005004e+00  3.30005002e+00  3.32005000e+00\n",
      "  3.34004998e+00  3.36004996e+00  3.38004994e+00  3.40004992e+00\n",
      "  3.42004991e+00  3.44004989e+00  3.46004987e+00  3.48004985e+00\n",
      "  3.50004983e+00  3.52004981e+00  3.54004979e+00  3.56004977e+00\n",
      "  3.58004975e+00  3.60004973e+00  3.62004972e+00  3.64004970e+00\n",
      "  3.66005015e+00  3.68005013e+00  3.70005012e+00  3.72005010e+00\n",
      "  3.74005008e+00  3.76005006e+00  3.78005004e+00  3.80005002e+00\n",
      "  3.82005000e+00  3.84004998e+00  3.86004996e+00  3.88004994e+00\n",
      "  3.90004992e+00  3.92004991e+00  3.94004989e+00  3.96004987e+00\n",
      "  3.98004985e+00  4.00004959e+00  4.02005005e+00  4.04004955e+00\n",
      "  4.06005001e+00  4.08004951e+00  4.10004997e+00  4.12004948e+00\n",
      "  4.14004993e+00  4.16005039e+00  4.18004990e+00  4.20005035e+00\n",
      "  4.22004986e+00  4.24004936e+00  4.26004982e+00  4.28004932e+00\n",
      "  4.30004978e+00  4.32004929e+00  4.34004974e+00  4.36004925e+00\n",
      "  4.38004971e+00  4.40004921e+00  4.42004967e+00  4.44005013e+00\n",
      "  4.46004963e+00  4.48005009e+00  4.50004959e+00  4.52005005e+00\n",
      "  4.54004955e+00  4.56005001e+00  4.58004951e+00  4.60004997e+00\n",
      "  4.62004948e+00  4.64004993e+00  4.66004944e+00  4.68004990e+00\n",
      "  4.70004940e+00  4.72004986e+00  4.74004936e+00  4.76004982e+00\n",
      "  4.78004932e+00  4.80004978e+00  4.82004929e+00  4.84004974e+00\n",
      "  4.86004925e+00  4.88004971e+00  4.90004921e+00  4.92004967e+00\n",
      "  4.94005013e+00  4.96004963e+00  4.98005009e+00  5.00004959e+00\n",
      "  5.02005005e+00  5.04004955e+00  5.06005001e+00  5.08004951e+00\n",
      "  5.10004997e+00  5.12004948e+00  5.14004993e+00  5.16004944e+00\n",
      "  5.18004990e+00  5.20004940e+00  5.22004986e+00  5.24004936e+00\n",
      "  5.26004982e+00  5.28004932e+00  5.30004978e+00  5.32004929e+00\n",
      "  5.34004974e+00  5.36004925e+00  5.38004971e+00  5.40004921e+00\n",
      "  5.42004967e+00  5.44005013e+00  5.46004963e+00  5.48005009e+00\n",
      "  5.50004959e+00  5.52005005e+00  5.54004955e+00  5.56005001e+00\n",
      "  5.58004951e+00  5.60004997e+00  5.62004948e+00  5.64004993e+00\n",
      "  5.66004944e+00  5.68004990e+00  5.70004940e+00  5.72004986e+00\n",
      "  5.74004936e+00  5.76004982e+00  5.78004932e+00  5.80004978e+00\n",
      "  5.82004929e+00  5.84004974e+00  5.86004925e+00  5.88004971e+00\n",
      "  5.90004921e+00  5.92004967e+00  5.94004917e+00  5.96004963e+00\n",
      "  5.98005009e+00  6.00004959e+00  6.02005005e+00  6.04004955e+00\n",
      "  6.06005001e+00  6.08004951e+00  6.10004997e+00  6.12004948e+00\n",
      "  6.14004993e+00  6.16004944e+00  6.18004990e+00  6.20004940e+00\n",
      "  6.22004986e+00  6.24004936e+00  6.26004982e+00  6.28004932e+00\n",
      "  6.30004978e+00  6.32004929e+00  6.34004974e+00  6.36004925e+00\n",
      "  6.38004971e+00  6.40004921e+00  6.42004967e+00  6.44004917e+00\n",
      "  6.46004963e+00  6.48005009e+00  6.50004959e+00  6.52005005e+00\n",
      "  6.54004955e+00  6.56005001e+00  6.58004951e+00  6.60004997e+00\n",
      "  6.62004948e+00  6.64004993e+00  6.66004944e+00  6.68004990e+00\n",
      "  6.70004940e+00  6.72004986e+00  6.74004936e+00  6.76004982e+00\n",
      "  6.78004932e+00  6.80004978e+00  6.82004929e+00  6.84004974e+00\n",
      "  6.86004925e+00  6.88004971e+00  6.90004921e+00  6.92004967e+00\n",
      "  6.94004917e+00  6.96004963e+00  6.98005009e+00  7.00004959e+00\n",
      "  7.02005005e+00  7.04004955e+00  7.06005001e+00  7.08004951e+00\n",
      "  7.10004997e+00  7.12004948e+00  7.14004993e+00  7.16004944e+00]\n"
     ]
    }
   ],
   "source": [
    "lat_value = lat[:] # examine first 10 values of longitude\n",
    "print(lat_value) "
   ]
  },
  {
   "cell_type": "code",
   "execution_count": 58,
   "metadata": {
    "internals": {
     "frag_helper": "fragment_end",
     "frag_number": 17,
     "slide_helper": "subslide_end"
    },
    "slide_helper": "slide_end",
    "slideshow": {
     "slide_type": "fragment"
    }
   },
   "outputs": [
    {
     "name": "stdout",
     "output_type": "stream",
     "text": [
      "[354.91074] [-3.77995] [390448.]\n"
     ]
    }
   ],
   "source": [
    "time_value,long_value, lat_value = time[:],long[:],lat[:]\n",
    "print(long_value[0:1], lat_value[0:1], time_value[0:1])\n",
    "#tempslice = temp[0, dpth > 400, yy > yy.max()/2, xx > xx.max()/2]\n",
    "#print('shape of temp slice: %s' % repr(tempslice.shape))"
   ]
  },
  {
   "cell_type": "code",
   "execution_count": 61,
   "metadata": {},
   "outputs": [],
   "source": [
    "t, l, la = long_value[0:1], lat_value[0:1], time_value[0:1]"
   ]
  },
  {
   "cell_type": "code",
   "execution_count": 62,
   "metadata": {},
   "outputs": [
    {
     "name": "stdout",
     "output_type": "stream",
     "text": [
      "[354.91074]\n"
     ]
    }
   ],
   "source": [
    "print(t)"
   ]
  },
  {
   "cell_type": "code",
   "execution_count": 63,
   "metadata": {},
   "outputs": [
    {
     "name": "stdout",
     "output_type": "stream",
     "text": [
      "[-3.77995]\n"
     ]
    }
   ],
   "source": [
    "print(l)"
   ]
  },
  {
   "cell_type": "code",
   "execution_count": 64,
   "metadata": {},
   "outputs": [
    {
     "name": "stdout",
     "output_type": "stream",
     "text": [
      "[390448.]\n"
     ]
    }
   ],
   "source": [
    "print(la)"
   ]
  },
  {
   "cell_type": "code",
   "execution_count": 68,
   "metadata": {},
   "outputs": [
    {
     "name": "stdout",
     "output_type": "stream",
     "text": [
      "<class 'netCDF4._netCDF4.Variable'>\n",
      "float32 air_temperature(time_0, grid_latitude, grid_longitude)\n",
      "    _FillValue: -1073741800.0\n",
      "    standard_name: air_temperature\n",
      "    units: K\n",
      "    um_stash_source: m01s03i236\n",
      "    grid_mapping: rotated_latitude_longitude\n",
      "    coordinates: forecast_period_0 forecast_reference_time height\n",
      "unlimited dimensions: time_0\n",
      "current shape = (3, 548, 421)\n",
      "filling on\n"
     ]
    }
   ],
   "source": [
    "print(temp)"
   ]
  },
  {
   "cell_type": "code",
   "execution_count": null,
   "metadata": {},
   "outputs": [],
   "source": []
  },
  {
   "cell_type": "code",
   "execution_count": null,
   "metadata": {},
   "outputs": [],
   "source": []
  },
  {
   "cell_type": "code",
   "execution_count": null,
   "metadata": {},
   "outputs": [],
   "source": []
  },
  {
   "cell_type": "code",
   "execution_count": null,
   "metadata": {},
   "outputs": [],
   "source": []
  },
  {
   "cell_type": "code",
   "execution_count": null,
   "metadata": {},
   "outputs": [],
   "source": []
  },
  {
   "cell_type": "code",
   "execution_count": null,
   "metadata": {},
   "outputs": [],
   "source": []
  },
  {
   "cell_type": "code",
   "execution_count": null,
   "metadata": {},
   "outputs": [],
   "source": []
  },
  {
   "cell_type": "code",
   "execution_count": null,
   "metadata": {},
   "outputs": [],
   "source": []
  },
  {
   "cell_type": "code",
   "execution_count": null,
   "metadata": {},
   "outputs": [],
   "source": []
  },
  {
   "cell_type": "code",
   "execution_count": null,
   "metadata": {},
   "outputs": [],
   "source": []
  }
 ],
 "metadata": {
  "celltoolbar": "Raw Cell Format",
  "kernelspec": {
   "display_name": "Python 3",
   "language": "python",
   "name": "python3"
  },
  "language_info": {
   "codemirror_mode": {
    "name": "ipython",
    "version": 3
   },
   "file_extension": ".py",
   "mimetype": "text/x-python",
   "name": "python",
   "nbconvert_exporter": "python",
   "pygments_lexer": "ipython3",
   "version": "3.6.0"
  }
 },
 "nbformat": 4,
 "nbformat_minor": 1
}
